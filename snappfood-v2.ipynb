{
 "cells": [
  {
   "cell_type": "markdown",
   "metadata": {
    "execution": {
     "iopub.execute_input": "2024-01-27T14:40:47.748704Z",
     "iopub.status.busy": "2024-01-27T14:40:47.748188Z",
     "iopub.status.idle": "2024-01-27T14:41:35.346468Z",
     "shell.execute_reply": "2024-01-27T14:41:35.344890Z",
     "shell.execute_reply.started": "2024-01-27T14:40:47.748670Z"
    },
    "id": "tTkWEg05mrqh",
    "outputId": "acb533d1-55ee-4b5c-cb6a-d1660321f9d7"
   },
   "source": [
    "### Install Requirements"
   ]
  },
  {
   "cell_type": "code",
   "execution_count": 1,
   "metadata": {
    "execution": {
     "iopub.execute_input": "2024-01-30T07:57:51.922880Z",
     "iopub.status.busy": "2024-01-30T07:57:51.921484Z",
     "iopub.status.idle": "2024-01-30T07:58:41.748864Z",
     "shell.execute_reply": "2024-01-30T07:58:41.747380Z",
     "shell.execute_reply.started": "2024-01-30T07:57:51.922840Z"
    }
   },
   "outputs": [
    {
     "name": "stdout",
     "output_type": "stream",
     "text": [
      "Collecting hazm\n",
      "  Obtaining dependency information for hazm from https://files.pythonhosted.org/packages/91/8c/cc3d01c27681eb8223781ea162a23f9926647ce864eb601a19aee4bce0af/hazm-0.10.0-py3-none-any.whl.metadata\n",
      "  Downloading hazm-0.10.0-py3-none-any.whl.metadata (11 kB)\n",
      "Collecting fasttext-wheel<0.10.0,>=0.9.2 (from hazm)\n",
      "  Downloading fasttext_wheel-0.9.2-cp310-cp310-manylinux_2_17_x86_64.manylinux2014_x86_64.whl (4.4 MB)\n",
      "\u001b[2K     \u001b[90m━━━━━━━━━━━━━━━━━━━━━━━━━━━━━━━━━━━━━━━━\u001b[0m \u001b[32m4.4/4.4 MB\u001b[0m \u001b[31m26.9 MB/s\u001b[0m eta \u001b[36m0:00:00\u001b[0m00:01\u001b[0m00:01\u001b[0m\n",
      "\u001b[?25hRequirement already satisfied: flashtext<3.0,>=2.7 in /opt/conda/lib/python3.10/site-packages (from hazm) (2.7)\n",
      "Requirement already satisfied: gensim<5.0.0,>=4.3.1 in /opt/conda/lib/python3.10/site-packages (from hazm) (4.3.2)\n",
      "Collecting nltk<4.0.0,>=3.8.1 (from hazm)\n",
      "  Downloading nltk-3.8.1-py3-none-any.whl (1.5 MB)\n",
      "\u001b[2K     \u001b[90m━━━━━━━━━━━━━━━━━━━━━━━━━━━━━━━━━━━━━━━━\u001b[0m \u001b[32m1.5/1.5 MB\u001b[0m \u001b[31m41.2 MB/s\u001b[0m eta \u001b[36m0:00:00\u001b[0m:00:01\u001b[0m\n",
      "\u001b[?25hRequirement already satisfied: numpy==1.24.3 in /opt/conda/lib/python3.10/site-packages (from hazm) (1.24.3)\n",
      "Collecting python-crfsuite<0.10.0,>=0.9.9 (from hazm)\n",
      "  Obtaining dependency information for python-crfsuite<0.10.0,>=0.9.9 from https://files.pythonhosted.org/packages/38/1d/c475ba7d11e9735f00eb08e2f5315aa2e21c24cc85a0474c3fd425edef58/python_crfsuite-0.9.10-cp310-cp310-manylinux_2_17_x86_64.manylinux2014_x86_64.whl.metadata\n",
      "  Downloading python_crfsuite-0.9.10-cp310-cp310-manylinux_2_17_x86_64.manylinux2014_x86_64.whl.metadata (4.2 kB)\n",
      "Requirement already satisfied: scikit-learn<2.0.0,>=1.2.2 in /opt/conda/lib/python3.10/site-packages (from hazm) (1.2.2)\n",
      "Requirement already satisfied: pybind11>=2.2 in /opt/conda/lib/python3.10/site-packages (from fasttext-wheel<0.10.0,>=0.9.2->hazm) (2.11.1)\n",
      "Requirement already satisfied: setuptools>=0.7.0 in /opt/conda/lib/python3.10/site-packages (from fasttext-wheel<0.10.0,>=0.9.2->hazm) (68.1.2)\n",
      "Requirement already satisfied: scipy>=1.7.0 in /opt/conda/lib/python3.10/site-packages (from gensim<5.0.0,>=4.3.1->hazm) (1.11.4)\n",
      "Requirement already satisfied: smart-open>=1.8.1 in /opt/conda/lib/python3.10/site-packages (from gensim<5.0.0,>=4.3.1->hazm) (6.3.0)\n",
      "Requirement already satisfied: click in /opt/conda/lib/python3.10/site-packages (from nltk<4.0.0,>=3.8.1->hazm) (8.1.7)\n",
      "Requirement already satisfied: joblib in /opt/conda/lib/python3.10/site-packages (from nltk<4.0.0,>=3.8.1->hazm) (1.3.2)\n",
      "Requirement already satisfied: regex>=2021.8.3 in /opt/conda/lib/python3.10/site-packages (from nltk<4.0.0,>=3.8.1->hazm) (2023.8.8)\n",
      "Requirement already satisfied: tqdm in /opt/conda/lib/python3.10/site-packages (from nltk<4.0.0,>=3.8.1->hazm) (4.66.1)\n",
      "Requirement already satisfied: threadpoolctl>=2.0.0 in /opt/conda/lib/python3.10/site-packages (from scikit-learn<2.0.0,>=1.2.2->hazm) (3.2.0)\n",
      "Downloading hazm-0.10.0-py3-none-any.whl (892 kB)\n",
      "\u001b[2K   \u001b[90m━━━━━━━━━━━━━━━━━━━━━━━━━━━━━━━━━━━━━━━━\u001b[0m \u001b[32m892.6/892.6 kB\u001b[0m \u001b[31m39.5 MB/s\u001b[0m eta \u001b[36m0:00:00\u001b[0m\n",
      "\u001b[?25hDownloading python_crfsuite-0.9.10-cp310-cp310-manylinux_2_17_x86_64.manylinux2014_x86_64.whl (1.1 MB)\n",
      "\u001b[2K   \u001b[90m━━━━━━━━━━━━━━━━━━━━━━━━━━━━━━━━━━━━━━━━\u001b[0m \u001b[32m1.1/1.1 MB\u001b[0m \u001b[31m37.8 MB/s\u001b[0m eta \u001b[36m0:00:00\u001b[0m\n",
      "\u001b[?25hInstalling collected packages: python-crfsuite, nltk, fasttext-wheel, hazm\n",
      "  Attempting uninstall: nltk\n",
      "    Found existing installation: nltk 3.2.4\n",
      "    Uninstalling nltk-3.2.4:\n",
      "      Successfully uninstalled nltk-3.2.4\n",
      "\u001b[31mERROR: pip's dependency resolver does not currently take into account all the packages that are installed. This behaviour is the source of the following dependency conflicts.\n",
      "preprocessing 0.1.13 requires nltk==3.2.4, but you have nltk 3.8.1 which is incompatible.\u001b[0m\u001b[31m\n",
      "\u001b[0mSuccessfully installed fasttext-wheel-0.9.2 hazm-0.10.0 nltk-3.8.1 python-crfsuite-0.9.10\n",
      "Collecting urlextract\n",
      "  Downloading urlextract-1.8.0-py3-none-any.whl (21 kB)\n",
      "Requirement already satisfied: idna in /opt/conda/lib/python3.10/site-packages (from urlextract) (3.4)\n",
      "Collecting uritools (from urlextract)\n",
      "  Obtaining dependency information for uritools from https://files.pythonhosted.org/packages/6b/ff/b16f225ceeb47f5d8899371ce446a8d6c1fe509a8882998b869f2a794c25/uritools-4.0.2-py3-none-any.whl.metadata\n",
      "  Downloading uritools-4.0.2-py3-none-any.whl.metadata (4.7 kB)\n",
      "Requirement already satisfied: platformdirs in /opt/conda/lib/python3.10/site-packages (from urlextract) (4.1.0)\n",
      "Requirement already satisfied: filelock in /opt/conda/lib/python3.10/site-packages (from urlextract) (3.12.2)\n",
      "Downloading uritools-4.0.2-py3-none-any.whl (10 kB)\n",
      "Installing collected packages: uritools, urlextract\n",
      "Successfully installed uritools-4.0.2 urlextract-1.8.0\n",
      "Collecting emojis\n",
      "  Downloading emojis-0.7.0-py3-none-any.whl (28 kB)\n",
      "Installing collected packages: emojis\n",
      "Successfully installed emojis-0.7.0\n"
     ]
    }
   ],
   "source": [
    "!pip install hazm\n",
    "!pip install urlextract\n",
    "!pip install emojis"
   ]
  },
  {
   "cell_type": "markdown",
   "metadata": {},
   "source": [
    "### Import Requirements"
   ]
  },
  {
   "cell_type": "code",
   "execution_count": 2,
   "metadata": {
    "execution": {
     "iopub.execute_input": "2024-01-30T07:58:41.752316Z",
     "iopub.status.busy": "2024-01-30T07:58:41.751818Z",
     "iopub.status.idle": "2024-01-30T07:58:58.579258Z",
     "shell.execute_reply": "2024-01-30T07:58:58.578341Z",
     "shell.execute_reply.started": "2024-01-30T07:58:41.752269Z"
    },
    "id": "pJ93luwXmrqk"
   },
   "outputs": [],
   "source": [
    "import pandas as pd\n",
    "from tqdm import tqdm\n",
    "from sklearn.model_selection import train_test_split\n",
    "from sklearn.feature_extraction.text import CountVectorizer, TfidfVectorizer\n",
    "from sklearn.linear_model import LogisticRegression\n",
    "from sklearn.metrics import accuracy_score\n",
    "from tensorflow.keras.models import Sequential\n",
    "from tensorflow.keras.layers import Dense, Activation, Dropout\n",
    "from tensorflow.keras.utils import to_categorical\n",
    "import numpy as np\n",
    "import re\n",
    "from urlextract import URLExtract\n",
    "import emojis\n",
    "import tensorflow as tf\n",
    "import ipywidgets as widgets\n",
    "from IPython.display import display, clear_output\n",
    "from xgboost import XGBClassifier\n",
    "import ipywidgets as widgets\n",
    "from IPython.display import display, clear_output\n",
    "from sklearn.metrics import accuracy_score, f1_score"
   ]
  },
  {
   "cell_type": "markdown",
   "metadata": {},
   "source": [
    "### Preprocessing"
   ]
  },
  {
   "cell_type": "code",
   "execution_count": 3,
   "metadata": {
    "execution": {
     "iopub.execute_input": "2024-01-30T07:58:58.582213Z",
     "iopub.status.busy": "2024-01-30T07:58:58.581092Z",
     "iopub.status.idle": "2024-01-30T07:58:58.597491Z",
     "shell.execute_reply": "2024-01-30T07:58:58.596661Z",
     "shell.execute_reply.started": "2024-01-30T07:58:58.582168Z"
    }
   },
   "outputs": [],
   "source": [
    "class Preprocessor:\n",
    "    def __init__(self):\n",
    "        self.extractor = URLExtract()\n",
    "\n",
    "    def _multiple_replace(self, mapping, text):\n",
    "        pattern = \"|\".join(map(re.escape, mapping.keys()))\n",
    "        return re.sub(pattern, lambda m: mapping[m.group()], str(text))\n",
    "\n",
    "    def convert_fa_numbers(self, input_str):\n",
    "        mapping = {\n",
    "            '۰': '0',\n",
    "            '۱': '1',\n",
    "            '۲': '2',\n",
    "            '۳': '3',\n",
    "            '۴': '4',\n",
    "            '۵': '5',\n",
    "            '۶': '6',\n",
    "            '۷': '7',\n",
    "            '۸': '8',\n",
    "            '۹': '9',\n",
    "            '.': '.',\n",
    "        }\n",
    "        return self._multiple_replace(mapping, input_str)\n",
    "\n",
    "    def convert_ar_characters(self, input_str):\n",
    "        mapping = {\n",
    "            'ك': 'ک',\n",
    "            'ى': 'ی',\n",
    "            'ي': 'ی',\n",
    "            'ئ': 'ی',\n",
    "            'إ': 'ا',\n",
    "            'أ': 'ا',\n",
    "            'ة': 'ه',\n",
    "            'ؤ': 'و'\n",
    "        }\n",
    "        return self._multiple_replace(mapping, input_str)\n",
    "\n",
    "    def preprocess(self, text):\n",
    "        for url in self.extractor.gen_urls(text):\n",
    "            text = text.replace(url, '<URL>')\n",
    "        emj = emojis.get(text)\n",
    "        for i in emj:\n",
    "            if i in text:\n",
    "                text = text.replace(i, '<emoji>')\n",
    "        text = self.convert_fa_numbers(text)\n",
    "        text = self.convert_ar_characters(text)\n",
    "        text = re.sub(r\"(:\\s?\\)|:-\\)|\\(\\s?:|\\(-:|:\\'\\)|:\\s?D|8-\\)|:\\s?\\||;\\s?\\)|:-\\*|:-\\||:-\\(|:\\s?P|:-P|:-p|:-b|:-O|:-o|:-0|:-\\@|:\\$|:-\\^|:-&|:-\\*|:-\\+|:-\\~|:-\\`|:-\\>|:-\\<|:-\\}|:-\\{|\\[:\\s?\\]|\\[:\\s?\\]|:\\s?\\]|:\\s?\\[|:\\s?\\}|:\\s?\\{)\", '<smiley>', text)\n",
    "        text = text.lower()\n",
    "        text = text.strip()\n",
    "        text = re.sub(r'[<>#.:()\"\\'!?؟،,@$%^&*_+\\[\\]/]', ' ', text)\n",
    "        text = re.sub(r'[\\s]{2,}', ' ', text)\n",
    "        text = re.sub(r'(\\w)\\1{2,}', r'\\1', text)\n",
    "        if re.search(r'[\\u0600-\\u06FF]', text):\n",
    "            return text\n",
    "        else:\n",
    "            return 'None'\n",
    "\n"
   ]
  },
  {
   "cell_type": "markdown",
   "metadata": {},
   "source": [
    "### Models"
   ]
  },
  {
   "cell_type": "code",
   "execution_count": 4,
   "metadata": {
    "execution": {
     "iopub.execute_input": "2024-01-30T07:58:58.601546Z",
     "iopub.status.busy": "2024-01-30T07:58:58.599687Z",
     "iopub.status.idle": "2024-01-30T07:58:58.641533Z",
     "shell.execute_reply": "2024-01-30T07:58:58.639907Z",
     "shell.execute_reply.started": "2024-01-30T07:58:58.601467Z"
    }
   },
   "outputs": [],
   "source": [
    "class SentimentModel:\n",
    "    def __init__(self):\n",
    "        self.model = Sequential()\n",
    "\n",
    "    def build_model(self, input_dim, nb_classes=2):\n",
    "        self.model.add(Dense(1000, input_shape=(input_dim[1],)))\n",
    "        self.model.add(Activation('relu'))\n",
    "        self.model.add(Dropout(0.5))\n",
    "        self.model.add(Dense(500))\n",
    "        self.model.add(Activation('relu'))\n",
    "        self.model.add(Dropout(0.5))\n",
    "        self.model.add(Dense(50))\n",
    "        self.model.add(Activation('relu'))\n",
    "        self.model.add(Dropout(0.5))\n",
    "        self.model.add(Dense(nb_classes))\n",
    "        self.model.add(Activation('softmax'))\n",
    "        self.model.compile(loss='categorical_crossentropy', optimizer='adam')\n",
    "\n",
    "    def train_model(self, X_train, y_train_cat, batch_size=32, epochs=10, verbose=2):\n",
    "        self.model.fit(X_train, y_train_cat, batch_size=batch_size, epochs=epochs, verbose=verbose)\n",
    "\n",
    "    def predict(self, X_test):\n",
    "        return self.model.predict(X_test)\n",
    "\n",
    "\n"
   ]
  },
  {
   "cell_type": "markdown",
   "metadata": {},
   "source": [
    "### Load and Prepare Data"
   ]
  },
  {
   "cell_type": "code",
   "execution_count": 5,
   "metadata": {
    "execution": {
     "iopub.execute_input": "2024-01-30T07:58:58.644134Z",
     "iopub.status.busy": "2024-01-30T07:58:58.643387Z",
     "iopub.status.idle": "2024-01-30T08:00:31.552307Z",
     "shell.execute_reply": "2024-01-30T08:00:31.551061Z",
     "shell.execute_reply.started": "2024-01-30T07:58:58.644096Z"
    }
   },
   "outputs": [
    {
     "name": "stderr",
     "output_type": "stream",
     "text": [
      "100%|██████████| 56700/56700 [01:23<00:00, 682.72it/s]\n"
     ]
    }
   ],
   "source": [
    "corpus = pd.read_csv('/kaggle/input/d/sarasnasr/snappfood/train.csv', on_bad_lines='skip', delimiter='\\t')\n",
    "\n",
    "preprocessor = Preprocessor()\n",
    "\n",
    "tqdm.pandas()\n",
    "corpus['Cleaned'] = corpus['comment'].progress_apply(preprocessor.preprocess)\n",
    "corpus = corpus.drop('Unnamed: 0', axis=1).dropna()\n",
    "\n",
    "count_vectorizer = CountVectorizer()\n",
    "X_count_vectorized = count_vectorizer.fit_transform(corpus.Cleaned).todense()\n",
    "\n",
    "vectorizer = TfidfVectorizer(min_df=2, max_features=10000)\n",
    "X_tfidf_vectorized = vectorizer.fit_transform(corpus.Cleaned).todense()\n",
    "\n",
    "labels = corpus['label_id'].values"
   ]
  },
  {
   "cell_type": "markdown",
   "metadata": {},
   "source": [
    "### Split Data"
   ]
  },
  {
   "cell_type": "code",
   "execution_count": 6,
   "metadata": {
    "execution": {
     "iopub.execute_input": "2024-01-30T08:00:31.554298Z",
     "iopub.status.busy": "2024-01-30T08:00:31.553931Z",
     "iopub.status.idle": "2024-01-30T08:00:42.663904Z",
     "shell.execute_reply": "2024-01-30T08:00:42.662708Z",
     "shell.execute_reply.started": "2024-01-30T08:00:31.554266Z"
    }
   },
   "outputs": [],
   "source": [
    "X_train, X_test, y_train, y_test = train_test_split(X_count_vectorized, labels, test_size=0.2, random_state=42)\n",
    "X_tfidf_train, X_tfidf_test, y_tfidf_train, y_tfidf_test = train_test_split(X_tfidf_vectorized, labels,\n",
    "                                                                            test_size=0.2, random_state=42)"
   ]
  },
  {
   "cell_type": "markdown",
   "metadata": {},
   "source": [
    "### Train Model"
   ]
  },
  {
   "cell_type": "code",
   "execution_count": 7,
   "metadata": {
    "execution": {
     "iopub.execute_input": "2024-01-30T08:00:42.666088Z",
     "iopub.status.busy": "2024-01-30T08:00:42.665704Z",
     "iopub.status.idle": "2024-01-30T08:38:53.813955Z",
     "shell.execute_reply": "2024-01-30T08:38:53.811027Z",
     "shell.execute_reply.started": "2024-01-30T08:00:42.666057Z"
    }
   },
   "outputs": [
    {
     "name": "stdout",
     "output_type": "stream",
     "text": [
      "Epoch 1/10\n",
      "1418/1418 - 223s - loss: 0.3808 - 223s/epoch - 157ms/step\n",
      "Epoch 2/10\n",
      "1418/1418 - 214s - loss: 0.3001 - 214s/epoch - 151ms/step\n",
      "Epoch 3/10\n",
      "1418/1418 - 215s - loss: 0.2386 - 215s/epoch - 151ms/step\n",
      "Epoch 4/10\n",
      "1418/1418 - 233s - loss: 0.1573 - 233s/epoch - 165ms/step\n",
      "Epoch 5/10\n",
      "1418/1418 - 223s - loss: 0.0971 - 223s/epoch - 157ms/step\n",
      "Epoch 6/10\n",
      "1418/1418 - 223s - loss: 0.0660 - 223s/epoch - 157ms/step\n",
      "Epoch 7/10\n",
      "1418/1418 - 222s - loss: 0.0492 - 222s/epoch - 157ms/step\n",
      "Epoch 8/10\n",
      "1418/1418 - 222s - loss: 0.0419 - 222s/epoch - 157ms/step\n",
      "Epoch 9/10\n",
      "1418/1418 - 222s - loss: 0.0349 - 222s/epoch - 156ms/step\n",
      "Epoch 10/10\n",
      "1418/1418 - 223s - loss: 0.0325 - 223s/epoch - 157ms/step\n",
      "355/355 [==============================] - 8s 21ms/step\n",
      "1418/1418 [==============================] - 30s 21ms/step\n"
     ]
    }
   ],
   "source": [
    "sentiment_model = SentimentModel()\n",
    "\n",
    "sentiment_model.build_model(X_tfidf_train.shape)\n",
    "y_tfidf_train_cat = to_categorical(y_tfidf_train)\n",
    "sentiment_model.train_model(X_tfidf_train, y_tfidf_train_cat)\n",
    "\n",
    "y_test_pred = sentiment_model.predict(X_tfidf_test)\n",
    "y_test_predclass = np.argmax(y_test_pred, axis=1)\n",
    "y_train_pred = sentiment_model.predict(X_tfidf_train)\n",
    "y_train_predclass = np.argmax(y_train_pred, axis=1)"
   ]
  },
  {
   "cell_type": "code",
   "execution_count": 20,
   "metadata": {
    "execution": {
     "iopub.execute_input": "2024-01-30T09:11:54.261270Z",
     "iopub.status.busy": "2024-01-30T09:11:54.260846Z",
     "iopub.status.idle": "2024-01-30T09:19:18.802126Z",
     "shell.execute_reply": "2024-01-30T09:19:18.801127Z",
     "shell.execute_reply.started": "2024-01-30T09:11:54.261228Z"
    }
   },
   "outputs": [
    {
     "data": {
      "text/html": [
       "<style>#sk-container-id-1 {color: black;background-color: white;}#sk-container-id-1 pre{padding: 0;}#sk-container-id-1 div.sk-toggleable {background-color: white;}#sk-container-id-1 label.sk-toggleable__label {cursor: pointer;display: block;width: 100%;margin-bottom: 0;padding: 0.3em;box-sizing: border-box;text-align: center;}#sk-container-id-1 label.sk-toggleable__label-arrow:before {content: \"▸\";float: left;margin-right: 0.25em;color: #696969;}#sk-container-id-1 label.sk-toggleable__label-arrow:hover:before {color: black;}#sk-container-id-1 div.sk-estimator:hover label.sk-toggleable__label-arrow:before {color: black;}#sk-container-id-1 div.sk-toggleable__content {max-height: 0;max-width: 0;overflow: hidden;text-align: left;background-color: #f0f8ff;}#sk-container-id-1 div.sk-toggleable__content pre {margin: 0.2em;color: black;border-radius: 0.25em;background-color: #f0f8ff;}#sk-container-id-1 input.sk-toggleable__control:checked~div.sk-toggleable__content {max-height: 200px;max-width: 100%;overflow: auto;}#sk-container-id-1 input.sk-toggleable__control:checked~label.sk-toggleable__label-arrow:before {content: \"▾\";}#sk-container-id-1 div.sk-estimator input.sk-toggleable__control:checked~label.sk-toggleable__label {background-color: #d4ebff;}#sk-container-id-1 div.sk-label input.sk-toggleable__control:checked~label.sk-toggleable__label {background-color: #d4ebff;}#sk-container-id-1 input.sk-hidden--visually {border: 0;clip: rect(1px 1px 1px 1px);clip: rect(1px, 1px, 1px, 1px);height: 1px;margin: -1px;overflow: hidden;padding: 0;position: absolute;width: 1px;}#sk-container-id-1 div.sk-estimator {font-family: monospace;background-color: #f0f8ff;border: 1px dotted black;border-radius: 0.25em;box-sizing: border-box;margin-bottom: 0.5em;}#sk-container-id-1 div.sk-estimator:hover {background-color: #d4ebff;}#sk-container-id-1 div.sk-parallel-item::after {content: \"\";width: 100%;border-bottom: 1px solid gray;flex-grow: 1;}#sk-container-id-1 div.sk-label:hover label.sk-toggleable__label {background-color: #d4ebff;}#sk-container-id-1 div.sk-serial::before {content: \"\";position: absolute;border-left: 1px solid gray;box-sizing: border-box;top: 0;bottom: 0;left: 50%;z-index: 0;}#sk-container-id-1 div.sk-serial {display: flex;flex-direction: column;align-items: center;background-color: white;padding-right: 0.2em;padding-left: 0.2em;position: relative;}#sk-container-id-1 div.sk-item {position: relative;z-index: 1;}#sk-container-id-1 div.sk-parallel {display: flex;align-items: stretch;justify-content: center;background-color: white;position: relative;}#sk-container-id-1 div.sk-item::before, #sk-container-id-1 div.sk-parallel-item::before {content: \"\";position: absolute;border-left: 1px solid gray;box-sizing: border-box;top: 0;bottom: 0;left: 50%;z-index: -1;}#sk-container-id-1 div.sk-parallel-item {display: flex;flex-direction: column;z-index: 1;position: relative;background-color: white;}#sk-container-id-1 div.sk-parallel-item:first-child::after {align-self: flex-end;width: 50%;}#sk-container-id-1 div.sk-parallel-item:last-child::after {align-self: flex-start;width: 50%;}#sk-container-id-1 div.sk-parallel-item:only-child::after {width: 0;}#sk-container-id-1 div.sk-dashed-wrapped {border: 1px dashed gray;margin: 0 0.4em 0.5em 0.4em;box-sizing: border-box;padding-bottom: 0.4em;background-color: white;}#sk-container-id-1 div.sk-label label {font-family: monospace;font-weight: bold;display: inline-block;line-height: 1.2em;}#sk-container-id-1 div.sk-label-container {text-align: center;}#sk-container-id-1 div.sk-container {/* jupyter's `normalize.less` sets `[hidden] { display: none; }` but bootstrap.min.css set `[hidden] { display: none !important; }` so we also need the `!important` here to be able to override the default hidden behavior on the sphinx rendered scikit-learn.org. See: https://github.com/scikit-learn/scikit-learn/issues/21755 */display: inline-block !important;position: relative;}#sk-container-id-1 div.sk-text-repr-fallback {display: none;}</style><div id=\"sk-container-id-1\" class=\"sk-top-container\"><div class=\"sk-text-repr-fallback\"><pre>RandomForestClassifier(random_state=42)</pre><b>In a Jupyter environment, please rerun this cell to show the HTML representation or trust the notebook. <br />On GitHub, the HTML representation is unable to render, please try loading this page with nbviewer.org.</b></div><div class=\"sk-container\" hidden><div class=\"sk-item\"><div class=\"sk-estimator sk-toggleable\"><input class=\"sk-toggleable__control sk-hidden--visually\" id=\"sk-estimator-id-1\" type=\"checkbox\" checked><label for=\"sk-estimator-id-1\" class=\"sk-toggleable__label sk-toggleable__label-arrow\">RandomForestClassifier</label><div class=\"sk-toggleable__content\"><pre>RandomForestClassifier(random_state=42)</pre></div></div></div></div></div>"
      ],
      "text/plain": [
       "RandomForestClassifier(random_state=42)"
      ]
     },
     "execution_count": 20,
     "metadata": {},
     "output_type": "execute_result"
    }
   ],
   "source": [
    "# Random-Forest\n",
    "\n",
    "RandomForestClassifier(n_estimators=100, random_state=42)\n",
    "X_tfidf_train_array = np.asarray(X_tfidf_train)\n",
    "rf_model.fit(X_tfidf_train_array, y_tfidf_train)\n",
    "\n",
    "X_tfidf_test_array = np.asarray(X_tfidf_test)\n",
    "y_rf_pred = rf_model.predict(X_tfidf_test_array)\n",
    "accuracy_rf = accuracy_score(y_tfidf_test, y_rf_pred)"
   ]
  },
  {
   "cell_type": "code",
   "execution_count": 30,
   "metadata": {
    "execution": {
     "iopub.execute_input": "2024-01-30T09:28:40.105442Z",
     "iopub.status.busy": "2024-01-30T09:28:40.104975Z",
     "iopub.status.idle": "2024-01-30T09:31:53.410405Z",
     "shell.execute_reply": "2024-01-30T09:31:53.409339Z",
     "shell.execute_reply.started": "2024-01-30T09:28:40.105405Z"
    }
   },
   "outputs": [],
   "source": [
    "# XG-Boost\n",
    "\n",
    "xgb_model = XGBClassifier()\n",
    "xgb_model.fit(X_tfidf_train_array, y_tfidf_train)\n",
    "\n",
    "y_xgb_pred = xgb_model.predict(X_tfidf_test_array)\n",
    "accuracy_xgb = accuracy_score(y_tfidf_test, y_xgb_pred)\n"
   ]
  },
  {
   "cell_type": "markdown",
   "metadata": {},
   "source": [
    "### Evaluate Model"
   ]
  },
  {
   "cell_type": "code",
   "execution_count": 33,
   "metadata": {
    "execution": {
     "iopub.execute_input": "2024-01-30T09:38:12.709316Z",
     "iopub.status.busy": "2024-01-30T09:38:12.705756Z",
     "iopub.status.idle": "2024-01-30T09:38:12.723413Z",
     "shell.execute_reply": "2024-01-30T09:38:12.722196Z",
     "shell.execute_reply.started": "2024-01-30T09:38:12.709244Z"
    }
   },
   "outputs": [],
   "source": [
    "class Evaluator:\n",
    "    @staticmethod\n",
    "    def evaluate_accuracy(y_true, y_predclass):\n",
    "        return round(accuracy_score(y_true, y_predclass), 4) * 100\n",
    "    \n",
    "    @staticmethod\n",
    "    def evaluate_f1(y_true, y_predclass):\n",
    "        return round(f1_score(y_true, y_predclass, average='weighted'), 4) * 100\n"
   ]
  },
  {
   "cell_type": "code",
   "execution_count": 34,
   "metadata": {
    "execution": {
     "iopub.execute_input": "2024-01-30T09:38:15.827467Z",
     "iopub.status.busy": "2024-01-30T09:38:15.827043Z",
     "iopub.status.idle": "2024-01-30T09:38:15.874927Z",
     "shell.execute_reply": "2024-01-30T09:38:15.873447Z",
     "shell.execute_reply.started": "2024-01-30T09:38:15.827435Z"
    }
   },
   "outputs": [
    {
     "name": "stdout",
     "output_type": "stream",
     "text": [
      "Deep Neural Network - Test accuracy: 82.86%\n",
      "Deep Neural Network - Train accuracy: 99.49%\n",
      "Deep Neural Network - Test F1 score: 82.86%\n",
      "Deep Neural Network - Train F1 score: 99.49%\n"
     ]
    }
   ],
   "source": [
    "evaluator = Evaluator()\n",
    "test_accuracy = evaluator.evaluate_accuracy(y_tfidf_test, y_test_predclass)\n",
    "train_accuracy = evaluator.evaluate_accuracy(y_tfidf_train, y_train_predclass)\n",
    "\n",
    "test_f1 = evaluator.evaluate_f1(y_tfidf_test, y_test_predclass)\n",
    "train_f1 = evaluator.evaluate_f1(y_tfidf_train, y_train_predclass)\n",
    "\n",
    "print(f\"Deep Neural Network - Test accuracy: {test_accuracy}%\")\n",
    "print(f\"Deep Neural Network - Train accuracy: {train_accuracy}%\")\n",
    "print(f\"Deep Neural Network - Test F1 score: {test_f1}%\")\n",
    "print(f\"Deep Neural Network - Train F1 score: {train_f1}%\")\n"
   ]
  },
  {
   "cell_type": "code",
   "execution_count": 25,
   "metadata": {
    "execution": {
     "iopub.execute_input": "2024-01-30T09:21:45.496554Z",
     "iopub.status.busy": "2024-01-30T09:21:45.495961Z",
     "iopub.status.idle": "2024-01-30T09:21:45.538845Z",
     "shell.execute_reply": "2024-01-30T09:21:45.537346Z",
     "shell.execute_reply.started": "2024-01-30T09:21:45.496514Z"
    }
   },
   "outputs": [
    {
     "name": "stdout",
     "output_type": "stream",
     "text": [
      "Random Forest Classifier Evaluation:\n",
      "Accuracy: 0.8471781305114638\n",
      "Classification Report:\n",
      "              precision    recall  f1-score   support\n",
      "\n",
      "           0       0.89      0.79      0.84      5613\n",
      "           1       0.82      0.90      0.86      5727\n",
      "\n",
      "    accuracy                           0.85     11340\n",
      "   macro avg       0.85      0.85      0.85     11340\n",
      "weighted avg       0.85      0.85      0.85     11340\n",
      "\n"
     ]
    }
   ],
   "source": [
    "print(\"Random Forest Classifier Evaluation:\")\n",
    "print(f\"Accuracy: {accuracy_rf}\")\n",
    "print(\"Classification Report:\")\n",
    "print(classification_report(y_tfidf_test, y_rf_pred))"
   ]
  },
  {
   "cell_type": "code",
   "execution_count": 35,
   "metadata": {
    "execution": {
     "iopub.execute_input": "2024-01-30T09:38:34.911905Z",
     "iopub.status.busy": "2024-01-30T09:38:34.911397Z",
     "iopub.status.idle": "2024-01-30T09:38:34.950650Z",
     "shell.execute_reply": "2024-01-30T09:38:34.949330Z",
     "shell.execute_reply.started": "2024-01-30T09:38:34.911869Z"
    }
   },
   "outputs": [
    {
     "name": "stdout",
     "output_type": "stream",
     "text": [
      "\n",
      "XGBoost Classifier Evaluation:\n",
      "Accuracy: 0.8486772486772487\n",
      "Classification Report:\n",
      "              precision    recall  f1-score   support\n",
      "\n",
      "           0       0.89      0.79      0.84      5613\n",
      "           1       0.82      0.91      0.86      5727\n",
      "\n",
      "    accuracy                           0.85     11340\n",
      "   macro avg       0.85      0.85      0.85     11340\n",
      "weighted avg       0.85      0.85      0.85     11340\n",
      "\n"
     ]
    }
   ],
   "source": [
    "print(\"\\nXGBoost Classifier Evaluation:\")\n",
    "print(f\"Accuracy: {accuracy_xgb}\")\n",
    "print(\"Classification Report:\")\n",
    "print(classification_report(y_tfidf_test, y_xgb_pred))"
   ]
  },
  {
   "cell_type": "markdown",
   "metadata": {},
   "source": [
    "# It's your Turn!"
   ]
  },
  {
   "cell_type": "code",
   "execution_count": 36,
   "metadata": {
    "execution": {
     "iopub.execute_input": "2024-01-30T09:38:40.500500Z",
     "iopub.status.busy": "2024-01-30T09:38:40.500009Z",
     "iopub.status.idle": "2024-01-30T09:38:40.543145Z",
     "shell.execute_reply": "2024-01-30T09:38:40.541252Z",
     "shell.execute_reply.started": "2024-01-30T09:38:40.500465Z"
    }
   },
   "outputs": [
    {
     "name": "stdout",
     "output_type": "stream",
     "text": [
      "\n"
     ]
    },
    {
     "data": {
      "application/vnd.jupyter.widget-view+json": {
       "model_id": "a5e10d77fefc49298322cea6a97d1f49",
       "version_major": 2,
       "version_minor": 0
      },
      "text/plain": [
       "Dropdown(description='Select Model:', options=('Deep Neural Network', 'Random Forest', 'XGBoost'), value='Deep…"
      ]
     },
     "metadata": {},
     "output_type": "display_data"
    },
    {
     "data": {
      "application/vnd.jupyter.widget-view+json": {
       "model_id": "36cb3de98f5e4b32af7c235e27220c1a",
       "version_major": 2,
       "version_minor": 0
      },
      "text/plain": [
       "Textarea(value='', placeholder='Enter your text here...')"
      ]
     },
     "metadata": {},
     "output_type": "display_data"
    },
    {
     "data": {
      "application/vnd.jupyter.widget-view+json": {
       "model_id": "ed8b0e53ac4547749469a6ae2910da86",
       "version_major": 2,
       "version_minor": 0
      },
      "text/plain": [
       "Button(description='Predict Sentiment', style=ButtonStyle())"
      ]
     },
     "metadata": {},
     "output_type": "display_data"
    },
    {
     "data": {
      "application/vnd.jupyter.widget-view+json": {
       "model_id": "9e03fec397f24fc4849ba983830fe41b",
       "version_major": 2,
       "version_minor": 0
      },
      "text/plain": [
       "Output()"
      ]
     },
     "metadata": {},
     "output_type": "display_data"
    }
   ],
   "source": [
    "model_dropdown = widgets.Dropdown(\n",
    "    options=['Deep Neural Network', 'Random Forest', 'XGBoost'],\n",
    "    value='Deep Neural Network',\n",
    "    description='Select Model:'\n",
    ")\n",
    "\n",
    "input_text = widgets.Textarea(\n",
    "    placeholder='Enter your text here...'\n",
    ")\n",
    "\n",
    "\n",
    "output_area = widgets.Output()\n",
    "prediction = \"\"\n",
    "\n",
    "def on_predict_button_click(b):\n",
    "    with output_area:\n",
    "        output_area.clear_output()\n",
    "        selected_model = model_dropdown.value\n",
    "        input_text_value = input_text.value\n",
    "\n",
    "        if selected_model == 'Deep Neural Network':\n",
    "            X_pred = vectorizer.transform([preprocessor.preprocess(input_text_value)]).todense()\n",
    "            predictions = sentiment_model.predict(X_pred)\n",
    "            predicted_class = np.argmax(predictions, axis=1)[0]\n",
    "            sentiment_label = \"SAD \\U0001F975\" if predicted_class == 1 else \"Happy \\U0001F929\"\n",
    "            print(f\"Predicted Sentiment: {sentiment_label}\")\n",
    "\n",
    "        elif selected_model == 'Random Forest':\n",
    "            X_pred = vectorizer.transform([preprocessor.preprocess(input_text_value)]).todense()\n",
    "            X_pred_array = np.asarray(X_pred)  # Convert to numpy array\n",
    "            prediction = rf_model.predict(X_pred_array)[0]\n",
    "            sentiment_label = \"SAD \\U0001F975\" if prediction == 1 else \"Happy \\U0001F929\"\n",
    "            print(f\"Predicted Sentiment: {sentiment_label}\")\n",
    "\n",
    "        elif selected_model == 'XGBoost':\n",
    "            X_pred = vectorizer.transform([preprocessor.preprocess(input_text_value)]).todense()\n",
    "            X_pred_array = np.asarray(X_pred)  # Convert to numpy array\n",
    "            prediction = xgb_model.predict(X_pred_array)[0]\n",
    "            sentiment_label = \"SAD \\U0001F975\" if prediction == 1 else \"Happy \\U0001F929\"\n",
    "            print(f\"Predicted Sentiment: {sentiment_label}\")\n",
    "\n",
    "\n",
    "            \n",
    "predict_button = widgets.Button(description='Predict Sentiment')\n",
    "predict_button.on_click(on_predict_button_click)\n",
    "\n",
    "# Display widgets\n",
    "print(prediction)\n",
    "display(model_dropdown)\n",
    "display(input_text)\n",
    "display(predict_button)\n",
    "display(output_area)\n"
   ]
  }
 ],
 "metadata": {
  "colab": {
   "provenance": []
  },
  "kaggle": {
   "accelerator": "none",
   "dataSources": [
    {
     "datasetId": 2311034,
     "sourceId": 3889482,
     "sourceType": "datasetVersion"
    },
    {
     "datasetId": 4362062,
     "sourceId": 7491938,
     "sourceType": "datasetVersion"
    },
    {
     "datasetId": 4362103,
     "sourceId": 7491992,
     "sourceType": "datasetVersion"
    },
    {
     "datasetId": 4362594,
     "sourceId": 7492714,
     "sourceType": "datasetVersion"
    }
   ],
   "dockerImageVersionId": 30635,
   "isGpuEnabled": false,
   "isInternetEnabled": true,
   "language": "python",
   "sourceType": "notebook"
  },
  "kernelspec": {
   "display_name": "Python 3 (ipykernel)",
   "language": "python",
   "name": "python3"
  },
  "language_info": {
   "codemirror_mode": {
    "name": "ipython",
    "version": 3
   },
   "file_extension": ".py",
   "mimetype": "text/x-python",
   "name": "python",
   "nbconvert_exporter": "python",
   "pygments_lexer": "ipython3",
   "version": "3.10.12"
  }
 },
 "nbformat": 4,
 "nbformat_minor": 4
}
